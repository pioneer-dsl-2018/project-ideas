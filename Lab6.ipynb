{
 "cells": [
  {
   "cell_type": "code",
   "execution_count": 2,
   "metadata": {},
   "outputs": [
    {
     "data": {
      "image/png": "[encoded data removed]",
      "text/plain": [
       "<matplotlib.figure.Figure at 0x11822e978>"
      ]
     },
     "metadata": {},
     "output_type": "display_data"
    }
   ],
   "source": [
    "import SchemDraw as schem\n",
    "import SchemDraw.elements as e\n",
    "d = schem.Drawing()\n",
    "#V1 = d.add(e.SOURCE_V, label='9.8V')\n",
    "R1 = d.add(e.RES, d='up', botlabel='0.22M$\\Omega$')\n",
    "d.add(e.DOT)\n",
    "d.add(e.LINE, d='left')\n",
    "C1 = d.add(e.CAP, d='down', label=\"47$\\mu$F\")\n",
    "d.add(e.LINE, d='right')\n",
    "d.add(e.DOT)\n",
    "d.add(e.LINE)\n",
    "d.add(e.METER_V, d='up')\n",
    "d.add(e.LINE, d='left')\n",
    "#draw the graph\n",
    "d.draw()\n",
    "#save it!\n",
    "d.save('Physics_Lab_6.png')"
   ]
  },
  {
   "cell_type": "code",
   "execution_count": null,
   "metadata": {},
   "outputs": [],
   "source": []
  },
  {
   "cell_type": "code",
   "execution_count": null,
   "metadata": {},
   "outputs": [],
   "source": []
  }
 ],
 "metadata": {
  "kernelspec": {
   "display_name": "Python 3",
   "language": "python",
   "name": "python3"
  },
  "language_info": {
   "codemirror_mode": {
    "name": "ipython",
    "version": 3
   },
   "file_extension": ".py",
   "mimetype": "text/x-python",
   "name": "python",
   "nbconvert_exporter": "python",
   "pygments_lexer": "ipython3",
   "version": "3.6.4"
  }
 },
 "nbformat": 4,
 "nbformat_minor": 2
}
